{
 "cells": [
  {
   "cell_type": "markdown",
   "metadata": {},
   "source": [
    "# Welcome to Cobbie and Andii's Sorter Program!\n",
    "This is a notebook-based program wherein you can input values which will be turned into an array and choose between a vast assortment of sorting algorithms to sort the array. You will also be able to see each iteration or step that the algorithm takes until it arrives at the sorted array. \n",
    "\n",
    "#### <b>Before running the next cell (which is the main cell), please first run the following cells which contain the code for the sorting algorithms.</b>\n",
    "\n",
    "Additional features past required functionalities include:\n",
    "1. Printing of each iteration/step until the sorted value is reached\n",
    "2. Counting of how many steps are taken in the sorting process\n",
    "3. Selection Sort\n",
    "\n",
    "Limitations of the notebook-based program include:\n",
    "1. Storing a new array for input requires a rerun of the cell"
   ]
  },
  {
   "cell_type": "code",
   "execution_count": 6,
   "metadata": {},
   "outputs": [
    {
     "name": "stdout",
     "output_type": "stream",
     "text": [
      "Thank you for using Cobbie and Andii's Sorter!\n"
     ]
    }
   ],
   "source": [
    "# imports the widgets to be used along with the extra functions display, clear_output, and copy\n",
    "from ipywidgets import interact, interactive, fixed\n",
    "import ipywidgets as widgets\n",
    "from IPython.display import display, clear_output\n",
    "import copy\n",
    "\n",
    "# asks for values to be sorted and turns it into an python list (to be referred to as 'array' for this program) \n",
    "inputhere = input('Input the integers to be sorted here with the format [first int][space]...[last int] \\n(Example: 4 6 3 7 45 1 -2)\\n')\n",
    "arr = list((int(x) for x in inputhere.split()))\n",
    "\n",
    "# clears the previous output of asking for values\n",
    "clear_output()\n",
    "\n",
    "# displays the array and asks for what the user wants to do\n",
    "print('Values to be sorted: ' + str(arr))\n",
    "print('\\nWhat type of algorithm would you want to use?')\n",
    "\n",
    "# creates and displays the button widgets\n",
    "button = widgets.Button(description=\"Enter New Values\")\n",
    "button2 = widgets.Button(description=\"Binsertion Sort\")\n",
    "button3 = widgets.Button(description=\"Bubbly Sort\")\n",
    "button5 = widgets.Button(description=\"Selection Sort\")\n",
    "button4 = widgets.Button(description=\"Exit program\")\n",
    "display(button)\n",
    "display(button2)\n",
    "display(button3)\n",
    "display(button5)\n",
    "display(button4)\n",
    "\n",
    "# this function creates a copy of the inputted array (without directly referencing the original)\n",
    "# This allows the inputted array to be used and sorted multiple times without having to reinput it\n",
    "def copyArr(arr):\n",
    "    arrCopy = copy.copy(arr)\n",
    "    return arrCopy\n",
    "\n",
    "# Button functions: Gives buttons functionality\n",
    "def on_button_clicked(b):\n",
    "    clear_output()\n",
    "    print('Please rerun this cell to input new values. (shift + ret)')\n",
    "\n",
    "def on_button2_clicked(b):\n",
    "    newArr = copyArr(arr)\n",
    "    BinsertionSort(newArr)\n",
    "    \n",
    "def on_button3_clicked(b):\n",
    "    newArr = copyArr(arr)\n",
    "    bubblySort(newArr)\n",
    "\n",
    "def on_button4_clicked(b):\n",
    "    clear_output()\n",
    "    print('Thank you for using Cobbie and Andii\\'s Sorter!')\n",
    "    \n",
    "def on_button5_clicked(b):\n",
    "    newArr = copyArr(arr)\n",
    "    SelectionSort2(arr)\n",
    "\n",
    "# connects button clicks to the buttons' specific functions\n",
    "button.on_click(on_button_clicked)\n",
    "button2.on_click(on_button2_clicked)\n",
    "button3.on_click(on_button3_clicked)\n",
    "button4.on_click(on_button4_clicked)\n",
    "button5.on_click(on_button5_clicked)"
   ]
  },
  {
   "cell_type": "markdown",
   "metadata": {},
   "source": [
    "## BinsertionSort\n",
    "   BinsertionSort implements a modified Insertion Sort algorithm that utilizes a modified Binary Search algorithm to determine the proper location of the element to be inserted. The modified Binary Search algorithm provides the index where the element being inserted should be placed.\n"
   ]
  },
  {
   "cell_type": "code",
   "execution_count": 2,
   "metadata": {},
   "outputs": [],
   "source": [
    "# This contains the code for the Modified Binary Search Algorithm, which returns the proper location of the element \n",
    "# to be used in Binsertion Sort in the following cell\n",
    "def ModBinarySearch3(arr, maxV, target):\n",
    "    low = 0\n",
    "    high = maxV\n",
    "    \n",
    "    while low<=high:\n",
    "        mid = (high + low)//2\n",
    "        \n",
    "        if mid == 0 or mid == maxV:\n",
    "            if (target > arr[mid]):\n",
    "                if(target > arr[mid + 1]):\n",
    "                    return mid + 2\n",
    "                return mid + 1\n",
    "            elif(target < arr[mid]):\n",
    "                return mid\n",
    "        else: \n",
    "            if(arr[mid] == target or (target > arr[mid] and ((mid == len(range(0, high+1))-1) or (target < arr[mid + 1])))):\n",
    "                return mid + 1\n",
    "            elif(target < arr[mid] and target > arr[mid - 1]):\n",
    "                return mid\n",
    "            elif (arr[mid] < target):\n",
    "                low = mid + 1\n",
    "            elif (arr[mid] > target):\n",
    "                high = mid - 1"
   ]
  },
  {
   "cell_type": "code",
   "execution_count": 3,
   "metadata": {},
   "outputs": [],
   "source": [
    "def BinsertionSort(A):\n",
    "    print('---BINSERTION SORT---\\nOriginal values: ')\n",
    "    print(str(A) + '\\n----------------------\\nSteps:')\n",
    "    stepsno = 0\n",
    "    for i in range(1, len(A)):\n",
    "        stepsno += 1 \n",
    "        ins = A[i]\n",
    "        p = ModBinarySearch3(A, i-1, ins)\n",
    "        for j in range(i-1, p-1, -1):\n",
    "            A[j+1] = A[j]\n",
    "        A[p] = ins\n",
    "        print(A)\n",
    "    print('----------------------\\nSorted version: \\n' + str(A) + f'\\n\\nSteps taken: {stepsno} \\n\\n')"
   ]
  },
  {
   "cell_type": "markdown",
   "metadata": {},
   "source": [
    "# BubblySort\n",
    "BubblySort implements the Bubble Sort algorithm that places the maximum element in its proper location.\n"
   ]
  },
  {
   "cell_type": "code",
   "execution_count": 4,
   "metadata": {},
   "outputs": [],
   "source": [
    "def bubblySort(listX):\n",
    "    print('---BUBBLY SORT--- \\nOriginal values: ')\n",
    "    print(str(listX) + '\\n----------------------\\nSteps:')\n",
    "    stepsno = 0\n",
    "    for i in range(len(listX) - 1,0,-1):\n",
    "        change = False\n",
    "        for x in range(i):\n",
    "            if listX[x] > listX[x + 1]:\n",
    "                current = listX[x]\n",
    "                listX[x] = listX[x + 1]\n",
    "                listX[x + 1] = current\n",
    "                change = True\n",
    "        if change == True:\n",
    "            print(listX)\n",
    "            stepsno += 1\n",
    "    print('----------------------\\nSorted version: \\n' + str(listX) + f'\\nSteps taken: {stepsno}\\n\\n')"
   ]
  },
  {
   "cell_type": "markdown",
   "metadata": {},
   "source": [
    "# Bonus: Selection Sort\n",
    "Selection sort divides an array into two sublists: one which is the \"sorted\" side and the other the unsorted side. The algorithm swaps (\"selects\") the smallest element of the unsorted sublist with a corresponding value, thereby expands the sorted sublist by one value."
   ]
  },
  {
   "cell_type": "code",
   "execution_count": 5,
   "metadata": {},
   "outputs": [],
   "source": [
    "def SelectionSort2(listx):\n",
    "    print('---SELECTION SORT--- \\nOriginal values: ')\n",
    "    print(str(listx) + '\\n----------------------\\nSteps:')\n",
    "    n = len(listx)\n",
    "    stepsno = 0\n",
    "    for i in range(0, n-1):\n",
    "        stepsno += 1\n",
    "        mini = i\n",
    "        \n",
    "        for j in range(i + 1, n):\n",
    "            if listx[j] < listx[mini]:\n",
    "                mini= j\n",
    "                \n",
    "        if mini != i:\n",
    "            a = listx[mini]\n",
    "            listx[mini] = listx[i]\n",
    "            listx[i] = a\n",
    "        print(listx)\n",
    "    print('----------------------\\nSorted version: \\n' + str(listx) + f'\\n\\nSteps taken: {stepsno}\\n\\n')"
   ]
  }
 ],
 "metadata": {
  "kernelspec": {
   "display_name": "Python 3",
   "language": "python",
   "name": "python3"
  },
  "language_info": {
   "codemirror_mode": {
    "name": "ipython",
    "version": 3
   },
   "file_extension": ".py",
   "mimetype": "text/x-python",
   "name": "python",
   "nbconvert_exporter": "python",
   "pygments_lexer": "ipython3",
   "version": "3.6.4"
  }
 },
 "nbformat": 4,
 "nbformat_minor": 2
}
